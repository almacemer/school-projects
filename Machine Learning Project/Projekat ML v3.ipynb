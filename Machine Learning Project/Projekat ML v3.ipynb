{
 "cells": [
  {
   "cell_type": "markdown",
   "id": "977050fe",
   "metadata": {},
   "source": [
    "# Import potrebnih biblioteka i učitavanje podataka"
   ]
  },
  {
   "cell_type": "code",
   "execution_count": 1,
   "id": "077ff348",
   "metadata": {},
   "outputs": [],
   "source": [
    "import numpy as np\n",
    "import pandas as pd\n",
    "import matplotlib.pyplot as plt\n",
    "import seaborn as sns"
   ]
  },
  {
   "cell_type": "code",
   "execution_count": 2,
   "id": "b05c8c5a",
   "metadata": {},
   "outputs": [],
   "source": [
    "data = pd.read_csv('data.csv')"
   ]
  },
  {
   "cell_type": "markdown",
   "id": "1c06bc94",
   "metadata": {},
   "source": [
    "# Analiza dataseta"
   ]
  },
  {
   "cell_type": "code",
   "execution_count": 3,
   "id": "4651c2c7",
   "metadata": {},
   "outputs": [
    {
     "data": {
      "text/html": [
       "<div>\n",
       "<style scoped>\n",
       "    .dataframe tbody tr th:only-of-type {\n",
       "        vertical-align: middle;\n",
       "    }\n",
       "\n",
       "    .dataframe tbody tr th {\n",
       "        vertical-align: top;\n",
       "    }\n",
       "\n",
       "    .dataframe thead th {\n",
       "        text-align: right;\n",
       "    }\n",
       "</style>\n",
       "<table border=\"1\" class=\"dataframe\">\n",
       "  <thead>\n",
       "    <tr style=\"text-align: right;\">\n",
       "      <th></th>\n",
       "      <th>slovo</th>\n",
       "      <th>a</th>\n",
       "      <th>b</th>\n",
       "      <th>c</th>\n",
       "      <th>d</th>\n",
       "      <th>e</th>\n",
       "      <th>f</th>\n",
       "    </tr>\n",
       "  </thead>\n",
       "  <tbody>\n",
       "    <tr>\n",
       "      <th>0</th>\n",
       "      <td>C</td>\n",
       "      <td>5.86</td>\n",
       "      <td>11.59</td>\n",
       "      <td>75.54</td>\n",
       "      <td>50.87</td>\n",
       "      <td>11.72</td>\n",
       "      <td>5.578</td>\n",
       "    </tr>\n",
       "    <tr>\n",
       "      <th>1</th>\n",
       "      <td>B</td>\n",
       "      <td>5.54</td>\n",
       "      <td>56.06</td>\n",
       "      <td>36.59</td>\n",
       "      <td>76.01</td>\n",
       "      <td>11.08</td>\n",
       "      <td>32.450</td>\n",
       "    </tr>\n",
       "    <tr>\n",
       "      <th>2</th>\n",
       "      <td>C</td>\n",
       "      <td>70.21</td>\n",
       "      <td>69.10</td>\n",
       "      <td>47.9</td>\n",
       "      <td>79.92</td>\n",
       "      <td>140.42</td>\n",
       "      <td>7.589</td>\n",
       "    </tr>\n",
       "    <tr>\n",
       "      <th>3</th>\n",
       "      <td>C</td>\n",
       "      <td>87.02</td>\n",
       "      <td>56.71</td>\n",
       "      <td>54.21</td>\n",
       "      <td>6.22</td>\n",
       "      <td>174.04</td>\n",
       "      <td>6.210</td>\n",
       "    </tr>\n",
       "    <tr>\n",
       "      <th>4</th>\n",
       "      <td>B</td>\n",
       "      <td>25.19</td>\n",
       "      <td>41.91</td>\n",
       "      <td>31.14</td>\n",
       "      <td>100.81</td>\n",
       "      <td>50.38</td>\n",
       "      <td>8.810</td>\n",
       "    </tr>\n",
       "  </tbody>\n",
       "</table>\n",
       "</div>"
      ],
      "text/plain": [
       "  slovo      a      b      c       d       e       f\n",
       "0     C   5.86  11.59  75.54   50.87   11.72   5.578\n",
       "1     B   5.54  56.06  36.59   76.01   11.08  32.450\n",
       "2     C  70.21  69.10   47.9   79.92  140.42   7.589\n",
       "3     C  87.02  56.71  54.21    6.22  174.04   6.210\n",
       "4     B  25.19  41.91  31.14  100.81   50.38   8.810"
      ]
     },
     "execution_count": 3,
     "metadata": {},
     "output_type": "execute_result"
    }
   ],
   "source": [
    "data.head()"
   ]
  },
  {
   "cell_type": "code",
   "execution_count": 4,
   "id": "e29ef4c4",
   "metadata": {},
   "outputs": [
    {
     "data": {
      "text/html": [
       "<div>\n",
       "<style scoped>\n",
       "    .dataframe tbody tr th:only-of-type {\n",
       "        vertical-align: middle;\n",
       "    }\n",
       "\n",
       "    .dataframe tbody tr th {\n",
       "        vertical-align: top;\n",
       "    }\n",
       "\n",
       "    .dataframe thead th {\n",
       "        text-align: right;\n",
       "    }\n",
       "</style>\n",
       "<table border=\"1\" class=\"dataframe\">\n",
       "  <thead>\n",
       "    <tr style=\"text-align: right;\">\n",
       "      <th></th>\n",
       "      <th>slovo</th>\n",
       "      <th>a</th>\n",
       "      <th>b</th>\n",
       "      <th>c</th>\n",
       "      <th>d</th>\n",
       "      <th>e</th>\n",
       "      <th>f</th>\n",
       "    </tr>\n",
       "  </thead>\n",
       "  <tbody>\n",
       "    <tr>\n",
       "      <th>9995</th>\n",
       "      <td>A</td>\n",
       "      <td>5.86</td>\n",
       "      <td>85.91</td>\n",
       "      <td>63.15</td>\n",
       "      <td>22.69</td>\n",
       "      <td>11.72</td>\n",
       "      <td>5.860</td>\n",
       "    </tr>\n",
       "    <tr>\n",
       "      <th>9996</th>\n",
       "      <td>B</td>\n",
       "      <td>80.16</td>\n",
       "      <td>98.09</td>\n",
       "      <td>69.2</td>\n",
       "      <td>60.94</td>\n",
       "      <td>160.32</td>\n",
       "      <td>8.322</td>\n",
       "    </tr>\n",
       "    <tr>\n",
       "      <th>9997</th>\n",
       "      <td>A</td>\n",
       "      <td>32.30</td>\n",
       "      <td>54.55</td>\n",
       "      <td>40</td>\n",
       "      <td>213213116.3</td>\n",
       "      <td>64.6</td>\n",
       "      <td>32.300</td>\n",
       "    </tr>\n",
       "    <tr>\n",
       "      <th>9998</th>\n",
       "      <td>A</td>\n",
       "      <td>39.20</td>\n",
       "      <td>28.94</td>\n",
       "      <td>22.67</td>\n",
       "      <td>94.28</td>\n",
       "      <td>78.4</td>\n",
       "      <td>39.200</td>\n",
       "    </tr>\n",
       "    <tr>\n",
       "      <th>9999</th>\n",
       "      <td>A</td>\n",
       "      <td>11.80</td>\n",
       "      <td>38.51</td>\n",
       "      <td>2.15</td>\n",
       "      <td>82.47</td>\n",
       "      <td>23.6</td>\n",
       "      <td>11.800</td>\n",
       "    </tr>\n",
       "  </tbody>\n",
       "</table>\n",
       "</div>"
      ],
      "text/plain": [
       "     slovo      a      b      c            d       e       f\n",
       "9995     A   5.86  85.91  63.15        22.69   11.72   5.860\n",
       "9996     B  80.16  98.09   69.2        60.94  160.32   8.322\n",
       "9997     A  32.30  54.55     40  213213116.3    64.6  32.300\n",
       "9998     A  39.20  28.94  22.67        94.28    78.4  39.200\n",
       "9999     A  11.80  38.51   2.15        82.47    23.6  11.800"
      ]
     },
     "execution_count": 4,
     "metadata": {},
     "output_type": "execute_result"
    }
   ],
   "source": [
    "data.tail()"
   ]
  },
  {
   "cell_type": "code",
   "execution_count": 5,
   "id": "f5eee434",
   "metadata": {},
   "outputs": [
    {
     "data": {
      "text/plain": [
       "(10000, 7)"
      ]
     },
     "execution_count": 5,
     "metadata": {},
     "output_type": "execute_result"
    }
   ],
   "source": [
    "data.shape"
   ]
  },
  {
   "cell_type": "markdown",
   "id": "3c76053f",
   "metadata": {},
   "source": [
    "Pomoću funkcija head() i tail() možemo vidjeti da se radi o datasetu sa kolonom 'slovo' koja ima vrijednosti A, B i C, te kolonama a, b, c, d, e i f koje imaju brojčane vrijednosti. Dataset ima 10000 redova i 7 kolona."
   ]
  },
  {
   "cell_type": "code",
   "execution_count": 6,
   "id": "7e7f5ef4",
   "metadata": {},
   "outputs": [
    {
     "data": {
      "text/plain": [
       "array(['C', 'B', 'A', nan, 'F'], dtype=object)"
      ]
     },
     "execution_count": 6,
     "metadata": {},
     "output_type": "execute_result"
    }
   ],
   "source": [
    "data['slovo'].unique()"
   ]
  },
  {
   "cell_type": "code",
   "execution_count": 7,
   "id": "5b47e2a0",
   "metadata": {},
   "outputs": [
    {
     "data": {
      "text/plain": [
       "B    3358\n",
       "C    3335\n",
       "A    3302\n",
       "F       1\n",
       "Name: slovo, dtype: int64"
      ]
     },
     "execution_count": 7,
     "metadata": {},
     "output_type": "execute_result"
    }
   ],
   "source": [
    "data['slovo'].value_counts()"
   ]
  },
  {
   "cell_type": "code",
   "execution_count": 8,
   "id": "8efbdb76",
   "metadata": {},
   "outputs": [
    {
     "data": {
      "text/plain": [
       "4"
      ]
     },
     "execution_count": 8,
     "metadata": {},
     "output_type": "execute_result"
    }
   ],
   "source": [
    "data['slovo'].isna().sum()"
   ]
  },
  {
   "cell_type": "markdown",
   "id": "3977207e",
   "metadata": {},
   "source": [
    "Vidimo da u koloni slovo imamo četiri jedinstvne vrijednosti, dakle pored A,B i C postoji još jedna vrijednost. Ta vrijednost je F i pojavljuje se samo jednom. Također, u koloni postoje četiri polja sa NaN, te brišemo iz dataseta F i NaN. NaN je zapravo prazan string."
   ]
  },
  {
   "cell_type": "code",
   "execution_count": 9,
   "id": "6a9c6133",
   "metadata": {},
   "outputs": [],
   "source": [
    "data.drop(data.index[data['slovo'] == 'F'], inplace=True)\n",
    "data.dropna(subset=['slovo'], inplace=True)"
   ]
  },
  {
   "cell_type": "code",
   "execution_count": 10,
   "id": "7ee6ca14",
   "metadata": {},
   "outputs": [
    {
     "data": {
      "text/plain": [
       "slovo     object\n",
       " a       float64\n",
       " b       float64\n",
       " c        object\n",
       " d        object\n",
       " e        object\n",
       " f       float64\n",
       "dtype: object"
      ]
     },
     "execution_count": 10,
     "metadata": {},
     "output_type": "execute_result"
    }
   ],
   "source": [
    "data.dtypes"
   ]
  },
  {
   "cell_type": "markdown",
   "id": "8031cbd4",
   "metadata": {},
   "source": [
    "Vrijedosti u kolonama c, d i e nisu numeričke vrijednosti, pa ih je potrebno pretvoriti."
   ]
  },
  {
   "cell_type": "code",
   "execution_count": 11,
   "id": "8f1bef83",
   "metadata": {},
   "outputs": [
    {
     "data": {
      "text/plain": [
       "1"
      ]
     },
     "execution_count": 11,
     "metadata": {},
     "output_type": "execute_result"
    }
   ],
   "source": [
    "(data[' c'].values ==  ' ').sum()"
   ]
  },
  {
   "cell_type": "code",
   "execution_count": 12,
   "id": "59d43ed7",
   "metadata": {},
   "outputs": [
    {
     "data": {
      "text/plain": [
       "4"
      ]
     },
     "execution_count": 12,
     "metadata": {},
     "output_type": "execute_result"
    }
   ],
   "source": [
    "(data[' d'].values == ' ').sum()"
   ]
  },
  {
   "cell_type": "code",
   "execution_count": 13,
   "id": "c4713856",
   "metadata": {},
   "outputs": [
    {
     "data": {
      "text/plain": [
       "1"
      ]
     },
     "execution_count": 13,
     "metadata": {},
     "output_type": "execute_result"
    }
   ],
   "source": [
    "(data[' e'].values == ' ').sum()"
   ]
  },
  {
   "cell_type": "markdown",
   "id": "c8ba7f2a",
   "metadata": {},
   "source": [
    "Provjeravamo da li ima praznih stringova u kolonama c, d i e. Pošto ima praznih stringova, mijenjam ih sa nan i kolone pretvaramo u numeričke vrijednosti."
   ]
  },
  {
   "cell_type": "code",
   "execution_count": 14,
   "id": "67458c7e",
   "metadata": {},
   "outputs": [
    {
     "data": {
      "text/plain": [
       "slovo     object\n",
       " a       float64\n",
       " b       float64\n",
       " c       float64\n",
       " d       float64\n",
       " e       float64\n",
       " f       float64\n",
       "dtype: object"
      ]
     },
     "execution_count": 14,
     "metadata": {},
     "output_type": "execute_result"
    }
   ],
   "source": [
    "data = data.replace(' ', np.nan)\n",
    "pd.set_option('display.float_format', lambda x: '%.3f' % x)\n",
    "data[' c'] = pd.to_numeric(data[' c'])\n",
    "data[' d'] = pd.to_numeric(data[' d'])\n",
    "data[' e'] = pd.to_numeric(data[' e'])\n",
    "data.dtypes"
   ]
  },
  {
   "cell_type": "markdown",
   "id": "0760ad0e",
   "metadata": {},
   "source": [
    "Sada su sve kolone, osim kolone slovo, tipa float."
   ]
  },
  {
   "cell_type": "code",
   "execution_count": 15,
   "id": "74fdd11e",
   "metadata": {},
   "outputs": [
    {
     "data": {
      "text/html": [
       "<div>\n",
       "<style scoped>\n",
       "    .dataframe tbody tr th:only-of-type {\n",
       "        vertical-align: middle;\n",
       "    }\n",
       "\n",
       "    .dataframe tbody tr th {\n",
       "        vertical-align: top;\n",
       "    }\n",
       "\n",
       "    .dataframe thead th {\n",
       "        text-align: right;\n",
       "    }\n",
       "</style>\n",
       "<table border=\"1\" class=\"dataframe\">\n",
       "  <thead>\n",
       "    <tr style=\"text-align: right;\">\n",
       "      <th></th>\n",
       "      <th>slovo</th>\n",
       "      <th>a</th>\n",
       "      <th>b</th>\n",
       "      <th>c</th>\n",
       "      <th>d</th>\n",
       "      <th>e</th>\n",
       "      <th>f</th>\n",
       "    </tr>\n",
       "  </thead>\n",
       "  <tbody>\n",
       "    <tr>\n",
       "      <th>count</th>\n",
       "      <td>9995</td>\n",
       "      <td>9995.000</td>\n",
       "      <td>9995.000</td>\n",
       "      <td>9994.000</td>\n",
       "      <td>9991.000</td>\n",
       "      <td>9994.000</td>\n",
       "      <td>9992.000</td>\n",
       "    </tr>\n",
       "    <tr>\n",
       "      <th>unique</th>\n",
       "      <td>3</td>\n",
       "      <td>NaN</td>\n",
       "      <td>NaN</td>\n",
       "      <td>NaN</td>\n",
       "      <td>NaN</td>\n",
       "      <td>NaN</td>\n",
       "      <td>NaN</td>\n",
       "    </tr>\n",
       "    <tr>\n",
       "      <th>top</th>\n",
       "      <td>B</td>\n",
       "      <td>NaN</td>\n",
       "      <td>NaN</td>\n",
       "      <td>NaN</td>\n",
       "      <td>NaN</td>\n",
       "      <td>NaN</td>\n",
       "      <td>NaN</td>\n",
       "    </tr>\n",
       "    <tr>\n",
       "      <th>freq</th>\n",
       "      <td>3358</td>\n",
       "      <td>NaN</td>\n",
       "      <td>NaN</td>\n",
       "      <td>NaN</td>\n",
       "      <td>NaN</td>\n",
       "      <td>NaN</td>\n",
       "      <td>NaN</td>\n",
       "    </tr>\n",
       "    <tr>\n",
       "      <th>mean</th>\n",
       "      <td>NaN</td>\n",
       "      <td>50.298</td>\n",
       "      <td>51.444</td>\n",
       "      <td>51.114</td>\n",
       "      <td>21391.671</td>\n",
       "      <td>100.611</td>\n",
       "      <td>365.837</td>\n",
       "    </tr>\n",
       "    <tr>\n",
       "      <th>std</th>\n",
       "      <td>NaN</td>\n",
       "      <td>28.808</td>\n",
       "      <td>28.980</td>\n",
       "      <td>28.718</td>\n",
       "      <td>2133090.759</td>\n",
       "      <td>57.579</td>\n",
       "      <td>24626.205</td>\n",
       "    </tr>\n",
       "    <tr>\n",
       "      <th>min</th>\n",
       "      <td>NaN</td>\n",
       "      <td>-52.010</td>\n",
       "      <td>-44.050</td>\n",
       "      <td>1.010</td>\n",
       "      <td>1.010</td>\n",
       "      <td>2.020</td>\n",
       "      <td>1.010</td>\n",
       "    </tr>\n",
       "    <tr>\n",
       "      <th>25%</th>\n",
       "      <td>NaN</td>\n",
       "      <td>25.365</td>\n",
       "      <td>26.300</td>\n",
       "      <td>26.712</td>\n",
       "      <td>26.125</td>\n",
       "      <td>50.745</td>\n",
       "      <td>6.128</td>\n",
       "    </tr>\n",
       "    <tr>\n",
       "      <th>50%</th>\n",
       "      <td>NaN</td>\n",
       "      <td>49.980</td>\n",
       "      <td>52.150</td>\n",
       "      <td>50.700</td>\n",
       "      <td>51.600</td>\n",
       "      <td>99.970</td>\n",
       "      <td>10.503</td>\n",
       "    </tr>\n",
       "    <tr>\n",
       "      <th>75%</th>\n",
       "      <td>NaN</td>\n",
       "      <td>74.930</td>\n",
       "      <td>76.530</td>\n",
       "      <td>76.130</td>\n",
       "      <td>76.170</td>\n",
       "      <td>149.855</td>\n",
       "      <td>37.981</td>\n",
       "    </tr>\n",
       "    <tr>\n",
       "      <th>max</th>\n",
       "      <td>NaN</td>\n",
       "      <td>100.990</td>\n",
       "      <td>100.970</td>\n",
       "      <td>100.990</td>\n",
       "      <td>213213116.300</td>\n",
       "      <td>201.980</td>\n",
       "      <td>2131236.968</td>\n",
       "    </tr>\n",
       "  </tbody>\n",
       "</table>\n",
       "</div>"
      ],
      "text/plain": [
       "       slovo        a        b        c             d        e           f\n",
       "count   9995 9995.000 9995.000 9994.000      9991.000 9994.000    9992.000\n",
       "unique     3      NaN      NaN      NaN           NaN      NaN         NaN\n",
       "top        B      NaN      NaN      NaN           NaN      NaN         NaN\n",
       "freq    3358      NaN      NaN      NaN           NaN      NaN         NaN\n",
       "mean     NaN   50.298   51.444   51.114     21391.671  100.611     365.837\n",
       "std      NaN   28.808   28.980   28.718   2133090.759   57.579   24626.205\n",
       "min      NaN  -52.010  -44.050    1.010         1.010    2.020       1.010\n",
       "25%      NaN   25.365   26.300   26.712        26.125   50.745       6.128\n",
       "50%      NaN   49.980   52.150   50.700        51.600   99.970      10.503\n",
       "75%      NaN   74.930   76.530   76.130        76.170  149.855      37.981\n",
       "max      NaN  100.990  100.970  100.990 213213116.300  201.980 2131236.968"
      ]
     },
     "execution_count": 15,
     "metadata": {},
     "output_type": "execute_result"
    }
   ],
   "source": [
    "data.describe(include = 'all')"
   ]
  },
  {
   "cell_type": "markdown",
   "id": "760843d5",
   "metadata": {},
   "source": [
    "## Korelacija podatka"
   ]
  },
  {
   "cell_type": "code",
   "execution_count": 16,
   "id": "1dbeff8a",
   "metadata": {},
   "outputs": [
    {
     "data": {
      "text/html": [
       "<div>\n",
       "<style scoped>\n",
       "    .dataframe tbody tr th:only-of-type {\n",
       "        vertical-align: middle;\n",
       "    }\n",
       "\n",
       "    .dataframe tbody tr th {\n",
       "        vertical-align: top;\n",
       "    }\n",
       "\n",
       "    .dataframe thead th {\n",
       "        text-align: right;\n",
       "    }\n",
       "</style>\n",
       "<table border=\"1\" class=\"dataframe\">\n",
       "  <thead>\n",
       "    <tr style=\"text-align: right;\">\n",
       "      <th></th>\n",
       "      <th>a</th>\n",
       "      <th>b</th>\n",
       "      <th>c</th>\n",
       "      <th>d</th>\n",
       "      <th>e</th>\n",
       "      <th>f</th>\n",
       "    </tr>\n",
       "  </thead>\n",
       "  <tbody>\n",
       "    <tr>\n",
       "      <th>a</th>\n",
       "      <td>1.000</td>\n",
       "      <td>0.019</td>\n",
       "      <td>-0.011</td>\n",
       "      <td>-0.006</td>\n",
       "      <td>0.999</td>\n",
       "      <td>0.007</td>\n",
       "    </tr>\n",
       "    <tr>\n",
       "      <th>b</th>\n",
       "      <td>0.019</td>\n",
       "      <td>1.000</td>\n",
       "      <td>-0.010</td>\n",
       "      <td>0.001</td>\n",
       "      <td>0.020</td>\n",
       "      <td>0.002</td>\n",
       "    </tr>\n",
       "    <tr>\n",
       "      <th>c</th>\n",
       "      <td>-0.011</td>\n",
       "      <td>-0.010</td>\n",
       "      <td>1.000</td>\n",
       "      <td>-0.004</td>\n",
       "      <td>-0.011</td>\n",
       "      <td>-0.001</td>\n",
       "    </tr>\n",
       "    <tr>\n",
       "      <th>d</th>\n",
       "      <td>-0.006</td>\n",
       "      <td>0.001</td>\n",
       "      <td>-0.004</td>\n",
       "      <td>1.000</td>\n",
       "      <td>-0.006</td>\n",
       "      <td>-0.000</td>\n",
       "    </tr>\n",
       "    <tr>\n",
       "      <th>e</th>\n",
       "      <td>0.999</td>\n",
       "      <td>0.020</td>\n",
       "      <td>-0.011</td>\n",
       "      <td>-0.006</td>\n",
       "      <td>1.000</td>\n",
       "      <td>0.007</td>\n",
       "    </tr>\n",
       "    <tr>\n",
       "      <th>f</th>\n",
       "      <td>0.007</td>\n",
       "      <td>0.002</td>\n",
       "      <td>-0.001</td>\n",
       "      <td>-0.000</td>\n",
       "      <td>0.007</td>\n",
       "      <td>1.000</td>\n",
       "    </tr>\n",
       "  </tbody>\n",
       "</table>\n",
       "</div>"
      ],
      "text/plain": [
       "        a      b      c      d      e      f\n",
       " a  1.000  0.019 -0.011 -0.006  0.999  0.007\n",
       " b  0.019  1.000 -0.010  0.001  0.020  0.002\n",
       " c -0.011 -0.010  1.000 -0.004 -0.011 -0.001\n",
       " d -0.006  0.001 -0.004  1.000 -0.006 -0.000\n",
       " e  0.999  0.020 -0.011 -0.006  1.000  0.007\n",
       " f  0.007  0.002 -0.001 -0.000  0.007  1.000"
      ]
     },
     "execution_count": 16,
     "metadata": {},
     "output_type": "execute_result"
    }
   ],
   "source": [
    "data.corr()"
   ]
  },
  {
   "cell_type": "code",
   "execution_count": 17,
   "id": "9110805a",
   "metadata": {},
   "outputs": [
    {
     "data": {
      "image/png": "[encoded data removed]",
      "text/plain": [
       "<Figure size 720x576 with 2 Axes>"
      ]
     },
     "metadata": {
      "needs_background": "light"
     },
     "output_type": "display_data"
    }
   ],
   "source": [
    "plt.figure(figsize=(10,8))\n",
    "cor = data.corr()\n",
    "sns.heatmap(cor, annot=True, cmap=plt.cm.Reds)\n",
    "plt.show()"
   ]
  },
  {
   "cell_type": "markdown",
   "id": "298536ae",
   "metadata": {},
   "source": [
    "Sa slike se vidi da za kolone a i e koeficijent korelacije jednak 1. To znači da sa promjenom a (odnosno e) mijenja se e (odnosno a). Brišemo jednu od ovih kolona."
   ]
  },
  {
   "cell_type": "code",
   "execution_count": 18,
   "id": "b35af0db",
   "metadata": {},
   "outputs": [
    {
     "data": {
      "text/html": [
       "<div>\n",
       "<style scoped>\n",
       "    .dataframe tbody tr th:only-of-type {\n",
       "        vertical-align: middle;\n",
       "    }\n",
       "\n",
       "    .dataframe tbody tr th {\n",
       "        vertical-align: top;\n",
       "    }\n",
       "\n",
       "    .dataframe thead th {\n",
       "        text-align: right;\n",
       "    }\n",
       "</style>\n",
       "<table border=\"1\" class=\"dataframe\">\n",
       "  <thead>\n",
       "    <tr style=\"text-align: right;\">\n",
       "      <th></th>\n",
       "      <th>a</th>\n",
       "      <th>b</th>\n",
       "      <th>c</th>\n",
       "      <th>d</th>\n",
       "      <th>f</th>\n",
       "    </tr>\n",
       "  </thead>\n",
       "  <tbody>\n",
       "    <tr>\n",
       "      <th>a</th>\n",
       "      <td>1.000</td>\n",
       "      <td>0.019</td>\n",
       "      <td>-0.011</td>\n",
       "      <td>-0.006</td>\n",
       "      <td>0.007</td>\n",
       "    </tr>\n",
       "    <tr>\n",
       "      <th>b</th>\n",
       "      <td>0.019</td>\n",
       "      <td>1.000</td>\n",
       "      <td>-0.010</td>\n",
       "      <td>0.001</td>\n",
       "      <td>0.002</td>\n",
       "    </tr>\n",
       "    <tr>\n",
       "      <th>c</th>\n",
       "      <td>-0.011</td>\n",
       "      <td>-0.010</td>\n",
       "      <td>1.000</td>\n",
       "      <td>-0.004</td>\n",
       "      <td>-0.001</td>\n",
       "    </tr>\n",
       "    <tr>\n",
       "      <th>d</th>\n",
       "      <td>-0.006</td>\n",
       "      <td>0.001</td>\n",
       "      <td>-0.004</td>\n",
       "      <td>1.000</td>\n",
       "      <td>-0.000</td>\n",
       "    </tr>\n",
       "    <tr>\n",
       "      <th>f</th>\n",
       "      <td>0.007</td>\n",
       "      <td>0.002</td>\n",
       "      <td>-0.001</td>\n",
       "      <td>-0.000</td>\n",
       "      <td>1.000</td>\n",
       "    </tr>\n",
       "  </tbody>\n",
       "</table>\n",
       "</div>"
      ],
      "text/plain": [
       "        a      b      c      d      f\n",
       " a  1.000  0.019 -0.011 -0.006  0.007\n",
       " b  0.019  1.000 -0.010  0.001  0.002\n",
       " c -0.011 -0.010  1.000 -0.004 -0.001\n",
       " d -0.006  0.001 -0.004  1.000 -0.000\n",
       " f  0.007  0.002 -0.001 -0.000  1.000"
      ]
     },
     "execution_count": 18,
     "metadata": {},
     "output_type": "execute_result"
    }
   ],
   "source": [
    "data = data.drop(data[[' e']], axis=1)\n",
    "data.corr()"
   ]
  },
  {
   "cell_type": "markdown",
   "id": "5443f460",
   "metadata": {},
   "source": [
    "## Anomalije"
   ]
  },
  {
   "cell_type": "markdown",
   "id": "cdb9c1c4",
   "metadata": {},
   "source": [
    "Na sljedećim slikama se vidi da za kolonu a imamo anomaliju tj. vrijednos koja je manja od -40, te za kolonu d imamo vrijednost koja je mnogo veća od ostalih vrijednosti u koloni."
   ]
  },
  {
   "cell_type": "code",
   "execution_count": 19,
   "id": "49fc15d9",
   "metadata": {},
   "outputs": [
    {
     "data": {
      "text/plain": [
       "<AxesSubplot:>"
      ]
     },
     "execution_count": 19,
     "metadata": {},
     "output_type": "execute_result"
    },
    {
     "data": {
      "image/png": "[encoded data removed]",
      "text/plain": [
       "<Figure size 432x288 with 1 Axes>"
      ]
     },
     "metadata": {
      "needs_background": "light"
     },
     "output_type": "display_data"
    }
   ],
   "source": [
    "data.boxplot(column=' a')"
   ]
  },
  {
   "cell_type": "code",
   "execution_count": 20,
   "id": "aaaac423",
   "metadata": {},
   "outputs": [
    {
     "data": {
      "text/plain": [
       "<AxesSubplot:>"
      ]
     },
     "execution_count": 20,
     "metadata": {},
     "output_type": "execute_result"
    },
    {
     "data": {
      "image/png": "[encoded data removed]",
      "text/plain": [
       "<Figure size 432x288 with 1 Axes>"
      ]
     },
     "metadata": {
      "needs_background": "light"
     },
     "output_type": "display_data"
    }
   ],
   "source": [
    "data.boxplot(column=' b')"
   ]
  },
  {
   "cell_type": "code",
   "execution_count": 21,
   "id": "cccd9e39",
   "metadata": {},
   "outputs": [
    {
     "data": {
      "text/plain": [
       "<AxesSubplot:>"
      ]
     },
     "execution_count": 21,
     "metadata": {},
     "output_type": "execute_result"
    },
    {
     "data": {
      "image/png": "[encoded data removed]",
      "text/plain": [
       "<Figure size 432x288 with 1 Axes>"
      ]
     },
     "metadata": {
      "needs_background": "light"
     },
     "output_type": "display_data"
    }
   ],
   "source": [
    "data.boxplot(column=' c')"
   ]
  },
  {
   "cell_type": "code",
   "execution_count": 22,
   "id": "06f57ac1",
   "metadata": {},
   "outputs": [
    {
     "data": {
      "text/plain": [
       "<AxesSubplot:>"
      ]
     },
     "execution_count": 22,
     "metadata": {},
     "output_type": "execute_result"
    },
    {
     "data": {
      "image/png": "[encoded data removed]",
      "text/plain": [
       "<Figure size 432x288 with 1 Axes>"
      ]
     },
     "metadata": {
      "needs_background": "light"
     },
     "output_type": "display_data"
    }
   ],
   "source": [
    "data.boxplot(column=' d')"
   ]
  },
  {
   "cell_type": "markdown",
   "id": "a95c0a44",
   "metadata": {},
   "source": [
    "Za detekciju anomalija se radi pomoću kvantila jer se sa njima mogu pronaći vrijednosti koji su iznad gornje ili ispod donje granice."
   ]
  },
  {
   "cell_type": "code",
   "execution_count": 23,
   "id": "d52c9c21",
   "metadata": {},
   "outputs": [],
   "source": [
    "def anomalije(data, kolona):\n",
    "    Q1 = data[kolona].quantile(0.25)\n",
    "    Q3 = data[kolona].quantile(0.75)\n",
    "    IQR = Q3 - Q1\n",
    "    donja_granica = Q1 - 1.5 * IQR\n",
    "    gornja_granica = Q3 + 1.5 * IQR\n",
    "    lista = data.index[(data[kolona] < donja_granica) | (data[kolona] > gornja_granica)]\n",
    "    return lista"
   ]
  },
  {
   "cell_type": "markdown",
   "id": "8e817d23",
   "metadata": {},
   "source": [
    "Zatim pravimo lista_indeksa i na nju, pomoću funkcije anomalije, nadodajemo indekse za svaku kolonu gdje se pronađe anomalija. Iz data brišemo anomalije."
   ]
  },
  {
   "cell_type": "code",
   "execution_count": 24,
   "id": "e53ae6aa",
   "metadata": {},
   "outputs": [
    {
     "data": {
      "text/plain": [
       "[9967, 9997]"
      ]
     },
     "execution_count": 24,
     "metadata": {},
     "output_type": "execute_result"
    }
   ],
   "source": [
    "lista_indeksa = []\n",
    "for kol in [' a', ' b', ' c', ' d']:\n",
    "    lista_indeksa.extend(anomalije(data, kol))\n",
    "lista_indeksa"
   ]
  },
  {
   "cell_type": "code",
   "execution_count": 25,
   "id": "e2f5d41f",
   "metadata": {},
   "outputs": [],
   "source": [
    "data = data.drop(lista_indeksa)"
   ]
  },
  {
   "cell_type": "markdown",
   "id": "4245b29f",
   "metadata": {},
   "source": [
    "Pošto su se iz data brisali redovi, potrebno je resetovati indekse. Sa funckijom reset_index() se doda nova kolona u data sa nazivom index koja sadrži stare indekse. Pošto oni više nisu potrebni, briše se ta kolona iz data."
   ]
  },
  {
   "cell_type": "code",
   "execution_count": 26,
   "id": "cbbd36df",
   "metadata": {},
   "outputs": [
    {
     "data": {
      "text/html": [
       "<div>\n",
       "<style scoped>\n",
       "    .dataframe tbody tr th:only-of-type {\n",
       "        vertical-align: middle;\n",
       "    }\n",
       "\n",
       "    .dataframe tbody tr th {\n",
       "        vertical-align: top;\n",
       "    }\n",
       "\n",
       "    .dataframe thead th {\n",
       "        text-align: right;\n",
       "    }\n",
       "</style>\n",
       "<table border=\"1\" class=\"dataframe\">\n",
       "  <thead>\n",
       "    <tr style=\"text-align: right;\">\n",
       "      <th></th>\n",
       "      <th>slovo</th>\n",
       "      <th>a</th>\n",
       "      <th>b</th>\n",
       "      <th>c</th>\n",
       "      <th>d</th>\n",
       "      <th>f</th>\n",
       "    </tr>\n",
       "  </thead>\n",
       "  <tbody>\n",
       "    <tr>\n",
       "      <th>0</th>\n",
       "      <td>C</td>\n",
       "      <td>5.860</td>\n",
       "      <td>11.590</td>\n",
       "      <td>75.540</td>\n",
       "      <td>50.870</td>\n",
       "      <td>5.578</td>\n",
       "    </tr>\n",
       "    <tr>\n",
       "      <th>1</th>\n",
       "      <td>B</td>\n",
       "      <td>5.540</td>\n",
       "      <td>56.060</td>\n",
       "      <td>36.590</td>\n",
       "      <td>76.010</td>\n",
       "      <td>32.450</td>\n",
       "    </tr>\n",
       "    <tr>\n",
       "      <th>2</th>\n",
       "      <td>C</td>\n",
       "      <td>70.210</td>\n",
       "      <td>69.100</td>\n",
       "      <td>47.900</td>\n",
       "      <td>79.920</td>\n",
       "      <td>7.589</td>\n",
       "    </tr>\n",
       "    <tr>\n",
       "      <th>3</th>\n",
       "      <td>C</td>\n",
       "      <td>87.020</td>\n",
       "      <td>56.710</td>\n",
       "      <td>54.210</td>\n",
       "      <td>6.220</td>\n",
       "      <td>6.210</td>\n",
       "    </tr>\n",
       "    <tr>\n",
       "      <th>4</th>\n",
       "      <td>B</td>\n",
       "      <td>25.190</td>\n",
       "      <td>41.910</td>\n",
       "      <td>31.140</td>\n",
       "      <td>100.810</td>\n",
       "      <td>8.810</td>\n",
       "    </tr>\n",
       "    <tr>\n",
       "      <th>...</th>\n",
       "      <td>...</td>\n",
       "      <td>...</td>\n",
       "      <td>...</td>\n",
       "      <td>...</td>\n",
       "      <td>...</td>\n",
       "      <td>...</td>\n",
       "    </tr>\n",
       "    <tr>\n",
       "      <th>9988</th>\n",
       "      <td>C</td>\n",
       "      <td>78.080</td>\n",
       "      <td>88.370</td>\n",
       "      <td>33.490</td>\n",
       "      <td>73.080</td>\n",
       "      <td>10.635</td>\n",
       "    </tr>\n",
       "    <tr>\n",
       "      <th>9989</th>\n",
       "      <td>A</td>\n",
       "      <td>5.860</td>\n",
       "      <td>85.910</td>\n",
       "      <td>63.150</td>\n",
       "      <td>22.690</td>\n",
       "      <td>5.860</td>\n",
       "    </tr>\n",
       "    <tr>\n",
       "      <th>9990</th>\n",
       "      <td>B</td>\n",
       "      <td>80.160</td>\n",
       "      <td>98.090</td>\n",
       "      <td>69.200</td>\n",
       "      <td>60.940</td>\n",
       "      <td>8.322</td>\n",
       "    </tr>\n",
       "    <tr>\n",
       "      <th>9991</th>\n",
       "      <td>A</td>\n",
       "      <td>39.200</td>\n",
       "      <td>28.940</td>\n",
       "      <td>22.670</td>\n",
       "      <td>94.280</td>\n",
       "      <td>39.200</td>\n",
       "    </tr>\n",
       "    <tr>\n",
       "      <th>9992</th>\n",
       "      <td>A</td>\n",
       "      <td>11.800</td>\n",
       "      <td>38.510</td>\n",
       "      <td>2.150</td>\n",
       "      <td>82.470</td>\n",
       "      <td>11.800</td>\n",
       "    </tr>\n",
       "  </tbody>\n",
       "</table>\n",
       "<p>9993 rows × 6 columns</p>\n",
       "</div>"
      ],
      "text/plain": [
       "     slovo      a      b      c       d      f\n",
       "0        C  5.860 11.590 75.540  50.870  5.578\n",
       "1        B  5.540 56.060 36.590  76.010 32.450\n",
       "2        C 70.210 69.100 47.900  79.920  7.589\n",
       "3        C 87.020 56.710 54.210   6.220  6.210\n",
       "4        B 25.190 41.910 31.140 100.810  8.810\n",
       "...    ...    ...    ...    ...     ...    ...\n",
       "9988     C 78.080 88.370 33.490  73.080 10.635\n",
       "9989     A  5.860 85.910 63.150  22.690  5.860\n",
       "9990     B 80.160 98.090 69.200  60.940  8.322\n",
       "9991     A 39.200 28.940 22.670  94.280 39.200\n",
       "9992     A 11.800 38.510  2.150  82.470 11.800\n",
       "\n",
       "[9993 rows x 6 columns]"
      ]
     },
     "execution_count": 26,
     "metadata": {},
     "output_type": "execute_result"
    }
   ],
   "source": [
    "data = data.reset_index()\n",
    "data = data.drop(data[['index']], axis=1)\n",
    "data"
   ]
  },
  {
   "cell_type": "markdown",
   "id": "a182f8e3",
   "metadata": {},
   "source": [
    "## Podjela podataka na X i y"
   ]
  },
  {
   "cell_type": "markdown",
   "id": "9ffc2d06",
   "metadata": {},
   "source": [
    "Prvih šesto kolona je X, a zadnja kolona je izlaz."
   ]
  },
  {
   "cell_type": "code",
   "execution_count": 27,
   "id": "7344a627",
   "metadata": {},
   "outputs": [],
   "source": [
    "X = data.iloc[:, :-1].values\n",
    "y = data.iloc[:, -1].values"
   ]
  },
  {
   "cell_type": "markdown",
   "id": "da6c2f15",
   "metadata": {},
   "source": [
    "## Column transformet - OneHotEncoder"
   ]
  },
  {
   "cell_type": "markdown",
   "id": "a394f399",
   "metadata": {},
   "source": [
    "Pošto je prva kolona u X sadržana od kategoričkih podataka (A, B i C), sa OneHotEncoder se pretvaraju u brojeve."
   ]
  },
  {
   "cell_type": "code",
   "execution_count": 28,
   "id": "a7b82a97",
   "metadata": {},
   "outputs": [],
   "source": [
    "from sklearn.compose import ColumnTransformer\n",
    "from sklearn.preprocessing import OneHotEncoder\n",
    "ct = ColumnTransformer(transformers=[('encoder', OneHotEncoder(), [0])], remainder='passthrough')\n",
    "X = ct.fit_transform(X)"
   ]
  },
  {
   "cell_type": "markdown",
   "id": "01a84b38",
   "metadata": {},
   "source": [
    "## Train-test split"
   ]
  },
  {
   "cell_type": "code",
   "execution_count": 29,
   "id": "3d24d200",
   "metadata": {},
   "outputs": [],
   "source": [
    "from sklearn.model_selection import train_test_split\n",
    "X_train, X_test, y_train, y_test = train_test_split(X, y, test_size=0.3, random_state=42)\n",
    "y_train = y_train.reshape(-1, 1)\n",
    "y_test = y_test.reshape(-1, 1)"
   ]
  },
  {
   "cell_type": "markdown",
   "id": "0a13ad1c",
   "metadata": {},
   "source": [
    "## Dopunjavanje vrijednosti"
   ]
  },
  {
   "cell_type": "code",
   "execution_count": 30,
   "id": "42beaf3e",
   "metadata": {},
   "outputs": [],
   "source": [
    "from sklearn.impute import SimpleImputer\n",
    "imputer = SimpleImputer(missing_values = np.nan, strategy='most_frequent')\n",
    "imputer.fit(X_train)\n",
    "X_train = imputer.transform(X_train)\n",
    "X_test = imputer.transform(X_train)\n",
    "imputer.fit(y_train)\n",
    "y_train = imputer.transform(y_train)\n",
    "y_test = imputer.transform(y_train)"
   ]
  },
  {
   "cell_type": "markdown",
   "id": "afd363d9",
   "metadata": {},
   "source": [
    "### Linearna regresija"
   ]
  },
  {
   "cell_type": "code",
   "execution_count": 31,
   "id": "0ba714e1",
   "metadata": {},
   "outputs": [
    {
     "data": {
      "text/plain": [
       "array([[ 312.04182592],\n",
       "       [ 603.56521439],\n",
       "       [ 357.8296688 ],\n",
       "       ...,\n",
       "       [ 223.1608934 ],\n",
       "       [-198.13891235],\n",
       "       [-213.72755827]])"
      ]
     },
     "execution_count": 31,
     "metadata": {},
     "output_type": "execute_result"
    }
   ],
   "source": [
    "from sklearn.linear_model import LinearRegression\n",
    "regressor1 = LinearRegression()\n",
    "regressor1.fit(X_train, y_train)\n",
    "predictions1 = regressor1.predict(X_test)\n",
    "predictions1"
   ]
  },
  {
   "cell_type": "code",
   "execution_count": 32,
   "id": "91035456",
   "metadata": {},
   "outputs": [
    {
     "data": {
      "text/plain": [
       "216881674.02365133"
      ]
     },
     "execution_count": 32,
     "metadata": {},
     "output_type": "execute_result"
    }
   ],
   "source": [
    "from sklearn.metrics import mean_squared_error\n",
    "mse = mean_squared_error(y_test, predictions1)\n",
    "mse"
   ]
  },
  {
   "cell_type": "code",
   "execution_count": 33,
   "id": "0a18c0d8",
   "metadata": {},
   "outputs": [
    {
     "data": {
      "text/plain": [
       "492.63938279557294"
      ]
     },
     "execution_count": 33,
     "metadata": {},
     "output_type": "execute_result"
    }
   ],
   "source": [
    "from sklearn.metrics import mean_absolute_error\n",
    "mae = mean_absolute_error(y_test, predictions1)\n",
    "mae"
   ]
  },
  {
   "cell_type": "markdown",
   "id": "0651ff63",
   "metadata": {},
   "source": [
    "Linearna regresija očigledno nije dobra opcija jer se dobije prevelika greška."
   ]
  },
  {
   "cell_type": "markdown",
   "id": "0aa156ff",
   "metadata": {},
   "source": [
    "### Decision Tree Regressor"
   ]
  },
  {
   "cell_type": "code",
   "execution_count": 34,
   "id": "313e3d3c",
   "metadata": {},
   "outputs": [
    {
     "data": {
      "text/plain": [
       "array([ 5.317,  5.214, 16.11 , ...,  7.39 , 23.295,  6.042])"
      ]
     },
     "execution_count": 34,
     "metadata": {},
     "output_type": "execute_result"
    }
   ],
   "source": [
    "from sklearn.tree import DecisionTreeRegressor\n",
    "regressor2 = DecisionTreeRegressor()\n",
    "regressor2.fit(X_train, y_train)\n",
    "predictions2 = regressor2.predict(X_test)\n",
    "predictions2"
   ]
  },
  {
   "cell_type": "code",
   "execution_count": 35,
   "id": "e5c41b5a",
   "metadata": {},
   "outputs": [
    {
     "data": {
      "text/plain": [
       "array([[ 5.317],\n",
       "       [ 5.214],\n",
       "       [16.11 ],\n",
       "       ...,\n",
       "       [ 7.39 ],\n",
       "       [23.295],\n",
       "       [ 6.042]])"
      ]
     },
     "execution_count": 35,
     "metadata": {},
     "output_type": "execute_result"
    }
   ],
   "source": [
    "y_test"
   ]
  },
  {
   "cell_type": "code",
   "execution_count": 36,
   "id": "d4c1b738",
   "metadata": {},
   "outputs": [
    {
     "data": {
      "text/plain": [
       "0.0"
      ]
     },
     "execution_count": 36,
     "metadata": {},
     "output_type": "execute_result"
    }
   ],
   "source": [
    "from sklearn.metrics import mean_squared_error\n",
    "mse = mean_squared_error(y_test, predictions2)\n",
    "mse"
   ]
  },
  {
   "cell_type": "markdown",
   "id": "155a8dfa",
   "metadata": {},
   "source": [
    "Pošto je greška 0.0, to je ovaj model idealan."
   ]
  },
  {
   "cell_type": "markdown",
   "id": "caa8dba9",
   "metadata": {},
   "source": [
    "### Random Forest regressor"
   ]
  },
  {
   "cell_type": "code",
   "execution_count": 40,
   "id": "02a51f3b",
   "metadata": {},
   "outputs": [
    {
     "data": {
      "text/plain": [
       "array([ 5.32733333,  5.675     , 16.06      , ...,  7.4       ,\n",
       "       23.295     ,  6.09166667])"
      ]
     },
     "execution_count": 40,
     "metadata": {},
     "output_type": "execute_result"
    }
   ],
   "source": [
    "from sklearn.ensemble import RandomForestRegressor\n",
    "regressor3 = RandomForestRegressor(n_estimators=3)\n",
    "regressor3.fit(X_train,y_test.ravel())\n",
    "predictions3 = regressor3.predict(X_test)\n",
    "predictions3"
   ]
  },
  {
   "cell_type": "code",
   "execution_count": 41,
   "id": "d2f41777",
   "metadata": {},
   "outputs": [
    {
     "data": {
      "text/plain": [
       "177.73963712175365"
      ]
     },
     "execution_count": 41,
     "metadata": {},
     "output_type": "execute_result"
    }
   ],
   "source": [
    "from sklearn.metrics import mean_absolute_error\n",
    "mae = mean_absolute_error(y_test, predictions3)\n",
    "mae"
   ]
  },
  {
   "cell_type": "markdown",
   "id": "99ce2212",
   "metadata": {},
   "source": [
    "Za Random Forest se dobije velika greška."
   ]
  },
  {
   "cell_type": "markdown",
   "id": "5bf558ea",
   "metadata": {},
   "source": [
    "## Feature scalling"
   ]
  },
  {
   "cell_type": "markdown",
   "id": "fa5315c2",
   "metadata": {},
   "source": [
    "Za algoritme SVR i Lasso Regression je potrebno izvršiti skaliranje podataka."
   ]
  },
  {
   "cell_type": "code",
   "execution_count": null,
   "id": "e1efcee3",
   "metadata": {},
   "outputs": [],
   "source": [
    "from sklearn.preprocessing import StandardScaler\n",
    "sc = StandardScaler()\n",
    "X_train[:, 3:] = sc.fit_transform(X_train[:, 3:])\n",
    "X_test[:, 3:] = sc.transform(X_train[:, 3:])\n",
    "y_train = sc.fit_transform(y_train)\n",
    "y_test = sc.transform(y_train)"
   ]
  },
  {
   "cell_type": "markdown",
   "id": "131f1a63",
   "metadata": {},
   "source": [
    "### SVR - Support Vector Regression"
   ]
  },
  {
   "cell_type": "code",
   "execution_count": null,
   "id": "f4864857",
   "metadata": {},
   "outputs": [],
   "source": [
    "from sklearn.svm import SVR\n",
    "regressor4 = SVR().fit(X_train, y_train.ravel())\n",
    "predictions4 = regressor4.predict(X_test)\n",
    "predictions4"
   ]
  },
  {
   "cell_type": "code",
   "execution_count": null,
   "id": "6bdcc278",
   "metadata": {},
   "outputs": [],
   "source": [
    "from sklearn.metrics import mean_squared_error\n",
    "mse = mean_squared_error(y_test, predictions4)\n",
    "mse"
   ]
  },
  {
   "cell_type": "markdown",
   "id": "1867cb1b",
   "metadata": {},
   "source": [
    "Sa SVR imamo sasvim malu grešku pa je ovaj model sasvim OK."
   ]
  },
  {
   "cell_type": "markdown",
   "id": "c3597ee5",
   "metadata": {},
   "source": [
    "### Lasso Regression"
   ]
  },
  {
   "cell_type": "code",
   "execution_count": null,
   "id": "e0f514eb",
   "metadata": {},
   "outputs": [],
   "source": [
    "from sklearn import linear_model\n",
    "regressor5 = linear_model.Lasso(alpha=0.1)\n",
    "regressor5.fit(X_train, y_train)\n",
    "predictions5 = regressor5.predict(X_test)\n",
    "predictions5"
   ]
  },
  {
   "cell_type": "code",
   "execution_count": null,
   "id": "3545c1bc",
   "metadata": {},
   "outputs": [],
   "source": [
    "from sklearn.metrics import mean_squared_error\n",
    "mse = mean_squared_error(y_test, predictions5)\n",
    "mse"
   ]
  },
  {
   "cell_type": "markdown",
   "id": "c567d4b4",
   "metadata": {},
   "source": [
    "Također, za Lasso je malo greška pa je sasvim OK za korištenje."
   ]
  },
  {
   "cell_type": "markdown",
   "id": "cb2ef7b5",
   "metadata": {},
   "source": [
    "## Zaključak\n",
    "Od svih modela najbolji je Decission Tree Regressor jer za njega dobijemo najmanju grešku."
   ]
  }
 ],
 "metadata": {
  "kernelspec": {
   "display_name": "Python 3 (ipykernel)",
   "language": "python",
   "name": "python3"
  },
  "language_info": {
   "codemirror_mode": {
    "name": "ipython",
    "version": 3
   },
   "file_extension": ".py",
   "mimetype": "text/x-python",
   "name": "python",
   "nbconvert_exporter": "python",
   "pygments_lexer": "ipython3",
   "version": "3.9.7"
  }
 },
 "nbformat": 4,
 "nbformat_minor": 5
}
